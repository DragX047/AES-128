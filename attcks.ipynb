{
 "cells": [
  {
   "cell_type": "markdown",
   "id": "4e705290",
   "metadata": {},
   "source": [
    "## Introduction\n",
    "\n",
    "We have learned many cryptographic primitives in lectures. While they are resistant to mathematical attacks, inappropriate implementations can lead to the leakage of secret keys through side-channel effects (such as running times, power consumption, electromagnetic waves, etc.).\n",
    "In this assignment, we will learn how a side-channel attack can extract the secret key of a mathematically secure cryptographic implementation. This assignment aims to understand how real-world implementations can affect the security of cryptographic applications.\n",
    "\n",
    "You will face two kinds of questions: short-answer questions and implementation questions. They always start with a red <font color=\"red\">Question xx</font>. There are <b>9 Questions</b> in total.\n",
    "\n",
    "For short answer questions, please type your answer in the next block (by double-clicking that block).\n",
    "\n",
    "For implementation questions, please finish the corresponding implementation by typing your code between the comments <font color=\"green\">\"Your code starts\"</font> and <font color=\"green\">\"Your code ends\"</font>. Please read the requirements carefully for each question. Failing to follow them will result in 0 marks for the corresponding questions.\n",
    "\n",
    "The total marks for this assignment are 125, contributing 12.5% to the subject marks.\n",
    "\n",
    "<b>Evaluation</b>: Your iPython notebook should run end-to-end without any errors in a reasonable amount of time, and you must follow all instructions provided below, including specific implementation requirements and instructions for what needs to be printed (please avoid printing output we don't ask for). You should edit the sections below where requested, but leave the rest of the code as is. You should leave the output from running your code in the iPython notebook you submit, to assist with marking. The amount each section is worth is given in parentheses after the instructions. <b> You should use Python 3</b>. Our marking script is running under Python 3.10.16.\n",
    "\n",
    "<font color=\"red\">Important 1: Importing any library outside the following list is prohibited! Using any of them will attract 0 mark for all corresponding questions!</font>\n",
    "\n",
    "<font color=\"green\">Allowed Libraries:\n",
    "- numpy\n",
    "- matplotlib \n",
    "</font>\n",
    "\n",
    "<font color=\"red\">Important 2: For all variables whose name starts with \"answer_\", please ensure they are assigned the correct value. They will be treated as your answers and are checked by automatic scripts.</font>\n",
    "\n",
    "- Question 2: <font color=\"purple\">answer_byte_1</font>.\n",
    "- Question 2: <font color=\"purple\">answer_highest_coef_for_each_guess</font>\n",
    "- Question 4: <font color=\"purple\">answer_RK_0</font>\n",
    "- Question 8: <font color=\"purple\">answer_32bit_RK_14</font>\n",
    "- Question 9: <font color=\"purple\">answer_32bit_RK_13</font>\n",
    "\n",
    "<b>Academic misconduct</b>: For most people, collaboration will form a natural part of the undertaking of this homework, and we encourage you to discuss it in general terms with other students. However, this is ultimately still an individual task, and therefore, the reuse of code or other instances of clear influence will be considered cheating. We will be checking submissions for originality and will invoke the University’s Academic Misconduct policy where inappropriate levels of collusion or plagiarism are deemed to have taken place."
   ]
  },
  {
   "cell_type": "markdown",
   "id": "6098dab8",
   "metadata": {},
   "source": [
    "---------------------------------------------------------"
   ]
  },
  {
   "cell_type": "markdown",
   "id": "01e90216",
   "metadata": {},
   "source": [
    "<font color=\"green\">Please sign your student name and ID there.</font>\n",
    "\n",
    "By signing my name there, I agree:\n",
    "\n",
    "   (1) I certify that the program contained in this submission is completely\n",
    "   my own individual work, except where explicitly noted by comments that\n",
    "   provide details otherwise.  I understand that work that has been developed\n",
    "   by another student, or by me in collaboration with other students,\n",
    "   or by non-students as a result of request, solicitation, or payment,\n",
    "   may not be submitted for assessment in this subject.  I understand that\n",
    "   submitting for assessment work developed by or in collaboration with\n",
    "   other students or non-students constitutes Academic Misconduct, and\n",
    "   may be penalized by mark deductions, or by other penalties determined\n",
    "   via the University.\n",
    "\n",
    "   (2) I also certify that I have not provided a copy of this work in either\n",
    "   softcopy or hardcopy or any other form to any other student, and nor will\n",
    "   I do so until after the marks are released. I understand that providing\n",
    "   my work to other students, regardless of my intention or any undertakings\n",
    "   made to me by that other student, is also Academic Misconduct.\n",
    "\n",
    "   (3) I further understand that providing a copy of the assignment\n",
    "   specification to any form of code authoring or assignment tutoring\n",
    "   service, or drawing the attention of others to such services and code\n",
    "   that may have been made available via such a service, may be regarded\n",
    "   as Student General Misconduct (interfering with the teaching activities\n",
    "   of the University and/or inciting others to commit Academic Misconduct).\n",
    "   I understand that an allegation of Student General Misconduct may arise\n",
    "   regardless of whether or not I personally make use of such solutions\n",
    "   or sought benefit from such actions.\n",
    "\n",
    "\n",
    "Student Name: Kshitij Shukla\n",
    "\n",
    "Student ID: 230583\n",
    "\n",
    "Date: 05/07/25"
   ]
  },
  {
   "cell_type": "markdown",
   "id": "c1baa8a8",
   "metadata": {},
   "source": [
    "---------------------------------------------------------"
   ]
  },
  {
   "cell_type": "markdown",
   "id": "bb4eaf5d",
   "metadata": {},
   "source": [
    "## Section 0: Introduction to Side-Channel Attacks and Power Analysis\n",
    "#### [0 marks]\n",
    "\n",
    "Please read the following two pages for a brief overview of side-channel attacks and power analysis.\n",
    "\n",
    "https://www.allaboutcircuits.com/technical-articles/understanding-side-channel-attack-basics/\n",
    "\n",
    "https://www.allaboutcircuits.com/technical-articles/a-basic-introduction-to-power-based-side-channel-attacks/\n",
    "\n",
    "Generally speaking, side-channel attacks are a class of attacks that don't directly target the cryptographic algorithm itself. Instead, they exploit unintended physical characteristics of a device, such as power consumption, timing, or electromagnetic emissions. These characteristics can leak information about the internal computations being performed. \n",
    "\n",
    "Then, power analysis is a specific type of side-channel attack that focuses on the power consumption of a device. Modern electronic devices consume varying amounts of power depending on the operations and operating values they are performing. Attackers can measure these power fluctuations (known as \"power traces\") using specialized equipment like oscilloscopes or even a single Ampere meter. \n",
    "\n",
    "#### Correlation Power Analysis ####\n",
    "\n",
    "Correlation Power Analysis (CPA) is a methodology within power analysis. Specifically, the attacker hypothesizes that the power consumption follows a leakage model.\n",
    "\n",
    "CPA runs as follows:\n",
    "\n",
    "1. The attacker determines the hypothesized power consumption leakage model.\n",
    "2. The attacker hypothesizes a key and uses it to compute the theoretical power consumption under the leakage model. \n",
    "3. The attacker compares whether the theoretical power consumption matches the real collected power consumption. \n",
    "4. The attacker repeats the guessing (steps 2 and 3) for all possible keys,\n",
    "5. The attacker selects the key that yields the best match in terms of power consumption as the final guess.\n",
    "\n",
    "In this assignment, we utilize the Hamming Weight (HW) leakage model. In other words, we hypothesize that the power consumption at time point $t$ is determined by the HW of the <font color=\"green\">***output***</font> value.\n",
    " "
   ]
  },
  {
   "cell_type": "markdown",
   "id": "762acd74",
   "metadata": {},
   "source": [
    "#### Preparsions ####\n",
    "\n",
    "We are going to extract the AES keys using CPA. Before we start, we list the necessary definitions and dependencies used in this assignment. Please remember them clearly, and do not forget to run the code block!\n",
    "\n",
    "**HW(data):** the Hamming Weight (HW) of the data. We have already given the implementation to compute HW in the following code block.\n",
    "\n",
    "**$SK$:** the master secret key of AES.\n",
    "\n",
    "**$RK_i$:** the round key ($RK$) at round $i$. In this assignment, we always count $RK$ starting from 0, and follow the AES forward operation (encryption) order. Take AES-128 as an example. There are 11 $RK$ in total. In encryption, the first operated $RK$ is $RK_0$, while the last operated $RK$ is $RK_{10}$. In decryption, the first operated $RK$ is $RK_{10}$, while the last operated $RK$ is $RK_0$. \n",
    "\n",
    "**$Round_i$:** the AES round where $RK_i$ is operated.\n",
    "\n",
    "<img src=\"imgs/RK.png\" alt=\"Round Key\" width=\"340\"/>"
   ]
  },
  {
   "cell_type": "code",
   "execution_count": null,
   "id": "be022854-2bf4-4340-b43d-cbab47082abd",
   "metadata": {},
   "outputs": [],
   "source": [
    "## You can comment this block after you have installed those dependencies.\n",
    "pip install numpy matplotlib"
   ]
  },
  {
   "cell_type": "code",
   "execution_count": 1,
   "id": "c02e2946",
   "metadata": {},
   "outputs": [],
   "source": [
    "import numpy as np\n",
    "import matplotlib.pyplot as plt\n",
    "\n",
    "SBOX = [\n",
    "    [0x63, 0x7C, 0x77, 0x7B, 0xF2, 0x6B, 0x6F, 0xC5, 0x30, 0x01, 0x67, 0x2B, 0xFE, 0xD7, 0xAB, 0x76],\n",
    "    [0xCA, 0x82, 0xC9, 0x7D, 0xFA, 0x59, 0x47, 0xF0, 0xAD, 0xD4, 0xA2, 0xAF, 0x9C, 0xA4, 0x72, 0xC0],\n",
    "    [0xB7, 0xFD, 0x93, 0x26, 0x36, 0x3F, 0xF7, 0xCC, 0x34, 0xA5, 0xE5, 0xF1, 0x71, 0xD8, 0x31, 0x15],\n",
    "    [0x04, 0xC7, 0x23, 0xC3, 0x18, 0x96, 0x05, 0x9A, 0x07, 0x12, 0x80, 0xE2, 0xEB, 0x27, 0xB2, 0x75],\n",
    "    [0x09, 0x83, 0x2C, 0x1A, 0x1B, 0x6E, 0x5A, 0xA0, 0x52, 0x3B, 0xD6, 0xB3, 0x29, 0xE3, 0x2F, 0x84],\n",
    "    [0x53, 0xD1, 0x00, 0xED, 0x20, 0xFC, 0xB1, 0x5B, 0x6A, 0xCB, 0xBE, 0x39, 0x4A, 0x4C, 0x58, 0xCF],\n",
    "    [0xD0, 0xEF, 0xAA, 0xFB, 0x43, 0x4D, 0x33, 0x85, 0x45, 0xF9, 0x02, 0x7F, 0x50, 0x3C, 0x9F, 0xA8],\n",
    "    [0x51, 0xA3, 0x40, 0x8F, 0x92, 0x9D, 0x38, 0xF5, 0xBC, 0xB6, 0xDA, 0x21, 0x10, 0xFF, 0xF3, 0xD2],\n",
    "    [0xCD, 0x0C, 0x13, 0xEC, 0x5F, 0x97, 0x44, 0x17, 0xC4, 0xA7, 0x7E, 0x3D, 0x64, 0x5D, 0x19, 0x73],\n",
    "    [0x60, 0x81, 0x4F, 0xDC, 0x22, 0x2A, 0x90, 0x88, 0x46, 0xEE, 0xB8, 0x14, 0xDE, 0x5E, 0x0B, 0xDB],\n",
    "    [0xE0, 0x32, 0x3A, 0x0A, 0x49, 0x06, 0x24, 0x5C, 0xC2, 0xD3, 0xAC, 0x62, 0x91, 0x95, 0xE4, 0x79],\n",
    "    [0xE7, 0xC8, 0x37, 0x6D, 0x8D, 0xD5, 0x4E, 0xA9, 0x6C, 0x56, 0xF4, 0xEA, 0x65, 0x7A, 0xAE, 0x08],\n",
    "    [0xBA, 0x78, 0x25, 0x2E, 0x1C, 0xA6, 0xB4, 0xC6, 0xE8, 0xDD, 0x74, 0x1F, 0x4B, 0xBD, 0x8B, 0x8A],\n",
    "    [0x70, 0x3E, 0xB5, 0x66, 0x48, 0x03, 0xF6, 0x0E, 0x61, 0x35, 0x57, 0xB9, 0x86, 0xC1, 0x1D, 0x9E],\n",
    "    [0xE1, 0xF8, 0x98, 0x11, 0x69, 0xD9, 0x8E, 0x94, 0x9B, 0x1E, 0x87, 0xE9, 0xCE, 0x55, 0x28, 0xDF],\n",
    "    [0x8C, 0xA1, 0x89, 0x0D, 0xBF, 0xE6, 0x42, 0x68, 0x41, 0x99, 0x2D, 0x0F, 0xB0, 0x54, 0xBB, 0x16]\n",
    "]\n",
    "\n",
    "class Traces:\n",
    "    def __init__(self, traces, text_ins):\n",
    "        self.traces = traces\n",
    "        self.text_ins = text_ins\n",
    "\n",
    "def load_traces(filename):\n",
    "    data = np.load(filename, allow_pickle=True)\n",
    "    traces = data['traces']\n",
    "    text_ins = data['textins']\n",
    "    return Traces(traces, text_ins)\n",
    "\n",
    "\n",
    "def print_hex(data):\n",
    "    return ''.join(f'0x{byte:02x} ' for byte in data)\n",
    "\n",
    "def HW(data):\n",
    "    return bin(data).count('1')\n",
    "\n",
    "def mean(X):\n",
    "    return np.sum(X, axis=0)/len(X)\n",
    "\n",
    "def std_dev(X, X_bar):\n",
    "    return np.sqrt(np.sum((X-X_bar)**2, axis=0))\n",
    "\n",
    "def cov(X, X_bar, Y, Y_bar):\n",
    "    return np.sum((X-X_bar)*(Y-Y_bar), axis=0)"
   ]
  },
  {
   "cell_type": "markdown",
   "id": "5f6c19a1-47f0-4fdc-8398-018e6138b91c",
   "metadata": {},
   "source": [
    "----------------------"
   ]
  },
  {
   "cell_type": "markdown",
   "id": "1f684f6f",
   "metadata": {},
   "source": [
    "## Section 1: Attack the AddRoundKey in 8-bit AES-128\n",
    "#### [15 marks]\n",
    "\n",
    "Recall the AES-128 implementation in assignment 1. For all AddRoundKey, SubByte, ShiftRow, and MixColumn operations, we operate on the input byte by byte. Such byte-wise AES is 8-bit AES.\n",
    "\n",
    "We will now extract the master secret key $SK$ of an 8-bit AES-128 encryption machine. We assume we can query the encryption machine with known plaintext and obtain the corresponding power traces while it is running. As AES is a symmetric-key primitive, it is equivalent to getting $SK$ from either encryption or decryption.\n",
    "\n",
    "Recall that AES-128 utilizes the Rijndael key schedule to expand the master key $SK$ into 11 $RK$ values where $RK_0=SK$. In other words, revealing $RK_0$ directly reveals the $SK$.\n",
    "\n",
    "Based on the CPA introduced before, we need to enumerate all possible keys for AES. It is impractical because $RK_0$ has a key space of $2^{128}$. However, as it is an 8-bit AES, each byte of $RK_0$ is computed individually with another input byte. By divide-and-conquer, we can recover $RK_0$ byte by byte, reducing the searching space to $2^8 \\times 16$.\n",
    "\n",
    "We will show you how to recover the <font color=\"green\">first byte</font>, then you are asked to recover the <font color=\"red\">second byte</font>.\n",
    "\n",
    "Let's start with recovering the first byte ($byte_0$ in $RK_0$)! "
   ]
  },
  {
   "cell_type": "markdown",
   "id": "4cb38f94-b1d9-4297-ac4e-b8f7f368af58",
   "metadata": {},
   "source": [
    ". . . . . . . . . . . . . . . . . . . . . . . . . . . . . . . . . . . . . . . . . . . . . . . . . . . . . . . . . . . . . . . . . . . . . . "
   ]
  },
  {
   "attachments": {},
   "cell_type": "markdown",
   "id": "f1111dbd-b4a1-4e70-a2db-00e103d4b321",
   "metadata": {},
   "source": [
    "#### Compute the theoretical power consumption with hypothesized keys. ####\n",
    "\n",
    "To recover $RK_0$, the first relevant operation is the AddRoundKey in $Round_0$, where the output is computed with a known input plaintext and unknown $RK_0$. We are now targeting the output of this AddRoundKey to perform the CPA.\n",
    "\n",
    "<font color=\"red\" size=\"4\">Question 1:</font> [5 mark] Compute the theoretical power consumption of AddRoundKey for $byte_i$ in the plaintext with a hypothesized key byte. Recall that we utilize the Hamming Weight (HW) leakage model to represent the theoretical power consumption."
   ]
  },
  {
   "cell_type": "code",
   "execution_count": 2,
   "id": "7618f6e3-a7f2-4d69-80e6-b3e8fb4a6d3b",
   "metadata": {},
   "outputs": [],
   "source": [
    "## input: plaintext\n",
    "## input: plaintext byte index\n",
    "## input: a hypothesized key byte\n",
    "## output: the theoretical power consumption (HW(output))\n",
    "def theoretical_power_consumption_for_byte_i_Section_1(plaintext, byte_index, hypothesized_key_byte):\n",
    "    power_consumption = 0\n",
    "    ## You code starts\"\n",
    "    output = plaintext[byte_index] ^ hypothesized_key_byte\n",
    "    power_consumption = HW(output)\n",
    "    ##\"You code ends\"\n",
    "    return power_consumption"
   ]
  },
  {
   "cell_type": "code",
   "execution_count": 3,
   "id": "e16052c5-2089-4ac8-835b-e745c80aefa7",
   "metadata": {},
   "outputs": [],
   "source": [
    "## For your check\n",
    "test_plaintext = [i for i in range(16)]\n",
    "assert theoretical_power_consumption_for_byte_i_Section_1(test_plaintext, 0, 0xf1) == 5"
   ]
  },
  {
   "cell_type": "markdown",
   "id": "8ec373af-cc29-4520-94a1-94d6a8b9398c",
   "metadata": {},
   "source": [
    "#### Collect the power traces ####\n",
    "\n",
    "We have collected the power traces for you. They are collected from a C-version implementation, which is equivalent to assignment 1. If you are interested in the source code, we have attached the corresponding C implementation in the file *AES-8bit.c* for viewing. There are 100 power traces collected from encrypting 100 random plaintexts with an unknown fixed key. After loading the traces, you can view $trace_i$ by Traces.traces[i] and its corresponding input plaintext by Traces.text_ins[i]. "
   ]
  },
  {
   "cell_type": "code",
   "execution_count": 4,
   "id": "330ce5a2-0139-4087-9e62-7052bc031966",
   "metadata": {},
   "outputs": [
    {
     "name": "stdout",
     "output_type": "stream",
     "text": [
      "The input plaintext:\n"
     ]
    },
    {
     "data": {
      "text/plain": [
       "'0xce 0x6b 0x58 0x34 0x67 0xd5 0xe6 0x48 0x21 0x32 0xa8 0x5f 0x5f 0x65 0x4e 0xbe '"
      ]
     },
     "execution_count": 4,
     "metadata": {},
     "output_type": "execute_result"
    },
    {
     "data": {
      "image/png": "[encoded data removed]",
      "text/plain": [
       "<Figure size 640x480 with 1 Axes>"
      ]
     },
     "metadata": {},
     "output_type": "display_data"
    }
   ],
   "source": [
    "## Load traces\n",
    "traces_8_bit = load_traces(\"AES-8-attack.npz\")\n",
    "\n",
    "## Get and view the trace_0\n",
    "trace_0 = traces_8_bit.traces[0]\n",
    "plt.plot(trace_0)\n",
    "\n",
    "## Get and view the input plaintext for trace_0\n",
    "plaintext_0 = traces_8_bit.text_ins[0]\n",
    "print(\"The input plaintext:\")\n",
    "print_hex(plaintext_0)"
   ]
  },
  {
   "cell_type": "markdown",
   "id": "f94c873a-902e-4286-b3aa-865b1b9df655",
   "metadata": {},
   "source": [
    "#### Compares whether the theoretical power consumption matches the real collected power consumption ####\n",
    "\n",
    "There are two main challenges in determining whether the theoretical power consumption matches the actual measured power data.\n",
    "\n",
    "First, we don't know the exact values of the actual power consumption. What we use instead is a model — for example, we often estimate power based on the Hamming weight of the output. This is just an approximation and not the real measured power.\n",
    "\n",
    "Second, we don’t know the exact time when the AddRoundKey operation occurs. Even if we can compute the theoretical power values for a guessed key, we don’t know the precise moment in the trace to compare them with.\n",
    "\n",
    "To address the first challenge, we measure the linear correlation between the theoretical and actual power consumption to determine if there is a match. In other words, if the variation pattern of the theoretical power consumption closely follows the trend of the actual measured values as the input changes, it suggests that we've likely guessed the correct key.\n",
    "\n",
    "To quantify this, we use the absolute value of the Pearson Correlation Coefficient, which ranges from 0 to 1. A value of 0 means there is no correlation, while a value of 1 indicates a perfect linear correlation.\n",
    "\n",
    "The actual algorithm is as follows for datasets $X$ and $Y$ of length $N$, with means of $\\bar{X}$ and $\\bar{Y}$, respectively:\n",
    "\n",
    "$$coef = |\\frac{cov(X, Y)}{\\sigma_X \\sigma_Y}|$$\n",
    "    \n",
    "$cov(X, Y)$ is the covariance of `X` and `Y` and can be calculated as follows:\n",
    "    \n",
    "$$cov(X, Y) = \\sum_{n=1}^{N}[(Y_n - \\bar{Y})(X_n - \\bar{X})]$$\n",
    "    \n",
    "$\\sigma_X$ and $\\sigma_Y$ are the standard deviations of the two datasets. This value can be calculated with the following equation\n",
    "    \n",
    "$$\\sigma_X = \\sqrt{\\sum_{n=1}^{N}(X_n - \\bar{X})^2}$$\n",
    "\n",
    "We have provided the $cov$ implementation as $cov(X, \\bar{X}, Y, \\bar{Y})$. See the usage example and how to compute the Absolute Pearson Correlation Score."
   ]
  },
  {
   "cell_type": "code",
   "execution_count": 5,
   "id": "550667f7-9006-4b4f-b9e3-909d8c011c55",
   "metadata": {},
   "outputs": [
    {
     "name": "stdout",
     "output_type": "stream",
     "text": [
      "[0.0378418  0.52355145]\n"
     ]
    }
   ],
   "source": [
    "## X: Theoretical power consumption at time t with input plaintext pt_0, pt_1, pt_2, pt_3, pt_4 and key_0\n",
    "power_example_t = np.array([[4, 2, 9, 6, 8], [2, 2, 3, 2, 2]]).transpose()\n",
    "\n",
    "## Y: Actual power consumption at time t with input plaintext pt_0, pt_1, pt_2, pt_3, pt_4 and key_0\n",
    "power_example_a = np.array([[0.1, 0.444, 0.124124, 0.885, 0.6545]]).transpose()\n",
    "\n",
    "## std for X and Y\n",
    "std_power_example_t = std_dev(power_example_t, mean(power_example_t))\n",
    "std_power_example_a = std_dev(power_example_a, mean(power_example_a))\n",
    "\n",
    "## cov(X, mean(X), Y, mean(Y))\n",
    "at_cov = cov(power_example_t, mean(power_example_t), power_example_a, mean(power_example_a))\n",
    "\n",
    "## Absolute Pearson Correlation Score\n",
    "Pearson_coef = np.abs(at_cov/(std_power_example_t*std_power_example_a))\n",
    "print(Pearson_coef)"
   ]
  },
  {
   "cell_type": "markdown",
   "id": "f78fa4dd-cbc5-4f4b-8661-1d171e9307a1",
   "metadata": {},
   "source": [
    "To address the second challenge, we can look at each time point one by one and calculate the correlation between the power measurements and the hypothetical power consumption based on a guessed key.\n",
    "If the guessed key is correct, we should see a strong peak (a clear high correlation) at some time point. If the key is wrong, the correlation values will be low and similar across all time points, without any noticeable peaks.\n",
    "\n",
    "We have provided the implementations below."
   ]
  },
  {
   "cell_type": "code",
   "execution_count": 6,
   "id": "30ff1b55-aad7-453f-9c4c-09897f1ad9dc",
   "metadata": {},
   "outputs": [],
   "source": [
    "## compute the theoretical power consumption for all plaintexts at byte_i\n",
    "def theoretical_power_consumption_Section_1(plaintexts, byte_index, key_byte):\n",
    "    return [theoretical_power_consumption_for_byte_i_Section_1(plaintext, byte_index, key_byte) for plaintext in plaintexts]\n",
    "\n",
    "## we can pre-compute the std and mean for the actual power consumption at each time t to speed up computation\n",
    "mean_actuals = mean(traces_8_bit.traces)\n",
    "std_actuals = std_dev(traces_8_bit.traces, mean_actuals)\n",
    "\n",
    "## input: traces - collected power traces (2-D np array)\n",
    "## input: text_ins -  inputs for the collected power traces (2-D np array)\n",
    "## input: guessed_byte_index - target key byte to be recovered\n",
    "## input: guessed_key_byte - hypothesized value for the key byte\n",
    "## input: mean_actuals - pre-computed means for the collected power traces\n",
    "## input: std_actuals - pre-computed stds for the collected power traces\n",
    "## output: Pearson Correlation Coefficients among the time points (1-D array)\n",
    "def compute_coefs_for_a_guess(traces, text_ins, guessed_byte_index, guessed_key_byte, mean_actuals, std_actuals):\n",
    "    ## Be careful about the shape and the transpose of power_theoretical there !!!!!!\n",
    "    power_theoretical = np.array([theoretical_power_consumption_Section_1(text_ins, guessed_byte_index, guessed_key_byte)]).transpose()\n",
    "    mean_theoretical = mean(power_theoretical)\n",
    "    std_hws = std_dev(power_theoretical, mean_theoretical)\n",
    "    coefs = np.abs(cov(traces, mean_actuals, power_theoretical, mean_theoretical)/(std_actuals*std_hws))\n",
    "    return coefs"
   ]
  },
  {
   "cell_type": "markdown",
   "id": "5bdf8ee7-ac4f-4bbe-bb99-8d0c7090b535",
   "metadata": {},
   "source": [
    "Let's begin to guess $byte_0$ of $RK_0$! For demonstration purposes, we already know $byte_0$=0x2b. After plotting the coefficients along the time points, we can see an extreme peak."
   ]
  },
  {
   "cell_type": "code",
   "execution_count": 7,
   "id": "442649b3-4426-4110-badb-16f1abe4071d",
   "metadata": {},
   "outputs": [
    {
     "data": {
      "text/plain": [
       "[<matplotlib.lines.Line2D at 0x2d077fddc00>]"
      ]
     },
     "execution_count": 7,
     "metadata": {},
     "output_type": "execute_result"
    },
    {
     "data": {
      "image/png": "[encoded data removed]",
      "text/plain": [
       "<Figure size 640x480 with 1 Axes>"
      ]
     },
     "metadata": {},
     "output_type": "display_data"
    }
   ],
   "source": [
    "guessed_key_byte = 0x2b\n",
    "guessed_byte_index = 0\n",
    "\n",
    "coefs = compute_coefs_for_a_guess(traces_8_bit.traces, traces_8_bit.text_ins, guessed_byte_index, guessed_key_byte, mean_actuals, std_actuals)\n",
    "plt.plot(coefs)"
   ]
  },
  {
   "cell_type": "markdown",
   "id": "f4266d62-e8a3-4c11-8550-28f1213d118d",
   "metadata": {},
   "source": [
    "Otherwise, if we guseed an incorrect key (say, 0x3e), there will be no such a peak."
   ]
  },
  {
   "cell_type": "code",
   "execution_count": 8,
   "id": "0cda69ad",
   "metadata": {},
   "outputs": [
    {
     "data": {
      "text/plain": [
       "[<matplotlib.lines.Line2D at 0x2d078047fd0>]"
      ]
     },
     "execution_count": 8,
     "metadata": {},
     "output_type": "execute_result"
    },
    {
     "data": {
      "image/png": "[encoded data removed]",
      "text/plain": [
       "<Figure size 640x480 with 1 Axes>"
      ]
     },
     "metadata": {},
     "output_type": "display_data"
    }
   ],
   "source": [
    "guessed_key_byte = 0x3e\n",
    "guessed_byte_index = 0\n",
    "\n",
    "coefs = compute_coefs_for_a_guess(traces_8_bit.traces, traces_8_bit.text_ins, guessed_byte_index, guessed_key_byte, mean_actuals, std_actuals)\n",
    "plt.plot(coefs)"
   ]
  },
  {
   "cell_type": "markdown",
   "id": "2892416b-51b3-476c-84c1-d88ae5791a2d",
   "metadata": {},
   "source": [
    ". . . . . . . . . . . . . . . . . . . . . . . . . . . . . . . . . . . . . . . . . . . . . . . . . . . . . . . . . . . . . . . . . . . . . . "
   ]
  },
  {
   "cell_type": "markdown",
   "id": "625f1509-08b1-4f11-a77f-a4b1a7a4641f",
   "metadata": {},
   "source": [
    "#### Recover the $byte_1$ for $RK_0$ ####\n",
    "\n",
    "<font color=\"red\" size=\"4\">Question 2:</font> [10 mark] Now, you are required to finish the following block to recover the second byte ($byte_1$ for $RK_0$). You can reuse the implementations we have provided above.\n",
    "\n",
    "*(Hint: We only need to record and compare the highest coef between each key guess)*\n",
    "\n",
    "- For our automatic script check, please assign your $byte_1$ value back to the <font color=\"purple\">answer_byte_1</font>.\n",
    "- For our automatic script check, please record the highest coefficient value for each key in <font color=\"purple\">answer_highest_coef_for_each_guess_byte_1</font>. Keep the list indexed by the key value. (i.e.answer_highest_coef_for_each_guess_byte_1[1] is the coefficient value for key=0x01)"
   ]
  },
  {
   "cell_type": "code",
   "execution_count": 9,
   "id": "c0e296d5-ed66-4187-9c4b-167efd437b60",
   "metadata": {},
   "outputs": [
    {
     "name": "stdout",
     "output_type": "stream",
     "text": [
      "0x81\n"
     ]
    },
    {
     "data": {
      "text/plain": [
       "[<matplotlib.lines.Line2D at 0x2d0778bf9d0>]"
      ]
     },
     "execution_count": 9,
     "metadata": {},
     "output_type": "execute_result"
    },
    {
     "data": {
      "image/png": "[encoded data removed]",
      "text/plain": [
       "<Figure size 640x480 with 1 Axes>"
      ]
     },
     "metadata": {},
     "output_type": "display_data"
    }
   ],
   "source": [
    "answer_byte_1 = 0\n",
    "answer_highest_coef_for_each_guess_byte_1 = []\n",
    "## Your code starts\n",
    "guessed_byte_index = 1  # Target byte_1\n",
    "max_coef = 0\n",
    "best_key = 0\n",
    "\n",
    "for key_guess in range(256):\n",
    "    coefs = compute_coefs_for_a_guess(traces_8_bit.traces, traces_8_bit.text_ins, \n",
    "                                     guessed_byte_index, key_guess, mean_actuals, std_actuals)\n",
    "    highest_coef = np.max(coefs)\n",
    "    answer_highest_coef_for_each_guess_byte_1.append(highest_coef)\n",
    "    \n",
    "    if highest_coef > max_coef:\n",
    "        max_coef = highest_coef\n",
    "        best_key = key_guess\n",
    "\n",
    "answer_byte_1 = best_key\n",
    "\n",
    "## Your code ends\n",
    "\n",
    "print(hex(answer_byte_1))\n",
    "plt.plot(answer_highest_coef_for_each_guess_byte_1)"
   ]
  },
  {
   "cell_type": "markdown",
   "id": "3fd2c9a8-6895-4c4a-8584-49c90b266802",
   "metadata": {},
   "source": [
    "<font color=\"red\" size=\"4\">*</font> <font color=\"green\"> Have you got the correct $byte_1$=0x7e? In fact, you should not get the correct value. Let's leave it for a while. </font>"
   ]
  },
  {
   "cell_type": "markdown",
   "id": "c0bdbded-8970-4a8f-b618-71f7f7eab5f7",
   "metadata": {},
   "source": [
    "-----------------"
   ]
  },
  {
   "cell_type": "markdown",
   "id": "7f5c7e70-358f-4de9-b650-4b890218e0a4",
   "metadata": {},
   "source": [
    "## Section 2: Attack the SubByte in 8-bit AES-128\n",
    "#### [60 marks]\n",
    "\n",
    "In fact, attacking AddRoundKey does not work well. We now turn our focus to the next operation, SubByte in $Round_1$. Although it belongs to $Round_1$, no additional unknown secrets are introduced. As a result, we can utilize the power consumption of this SubByte's outputs to recover $RK_0$ by simply repeating the previous attack."
   ]
  },
  {
   "cell_type": "markdown",
   "id": "2ee545a2-9c2f-4164-bbb6-ec65f4fb341d",
   "metadata": {},
   "source": [
    ". . . . . . . . . . . . . . . . . . . . . . . . . . . . . . . . . . . . . . . . . . . . . . . . . . . . . . . . . . . . . . . . . . . . . . "
   ]
  },
  {
   "cell_type": "markdown",
   "id": "bfdc2c4f",
   "metadata": {},
   "source": [
    "<font color=\"red\" size=\"4\">Question 3:</font> [5 mark] First of all, we need to compute the theoretical power consumption for the SubByte operation. Finish the implementation below:"
   ]
  },
  {
   "cell_type": "code",
   "execution_count": 10,
   "id": "116c103e-4012-4ae3-8b0b-31cf60950941",
   "metadata": {},
   "outputs": [],
   "source": [
    "## input: plaintext\n",
    "## input: plaintext byte index\n",
    "## input: a hypothesized key byte\n",
    "## output: the theoretical power consumption (HW(output))\n",
    "def theoretical_power_consumption_for_byte_i_Section_2(plaintext, byte_index, hypothesized_key_byte):\n",
    "    power_consumption = 0\n",
    "    ## Your code starts\n",
    "    after_add_round_key = plaintext[byte_index] ^ hypothesized_key_byte\n",
    "    # Then SubByte operation using SBOX\n",
    "    sbox_output = SBOX[after_add_round_key >> 4][after_add_round_key & 0x0F]\n",
    "    power_consumption = HW(sbox_output)\n",
    "    ## Your code ends \n",
    "    return power_consumption"
   ]
  },
  {
   "cell_type": "code",
   "execution_count": 11,
   "id": "732e0bc7-908d-4c12-badf-963db3cf75db",
   "metadata": {},
   "outputs": [],
   "source": [
    "## for your check\n",
    "test_plaintext = [i for i in range(16)]\n",
    "assert theoretical_power_consumption_for_byte_i_Section_2(test_plaintext, 0, 0xf1) == 3"
   ]
  },
  {
   "cell_type": "markdown",
   "id": "d857829f-8565-4d3d-8bd5-831cbdacf9db",
   "metadata": {},
   "source": [
    ". . . . . . . . . . . . . . . . . . . . . . . . . . . . . . . . . . . . . . . . . . . . . . . . . . . . . . . . . . . . . . . . . . . . . . "
   ]
  },
  {
   "cell_type": "markdown",
   "id": "e3829f96-579d-46b8-a66e-dc9a4db073cf",
   "metadata": {},
   "source": [
    "<font color=\"red\" size=\"4\">Question 4:</font> [20 mark] Now, you are asked to recover the whole $RK_0$, and store each byte's value back to the <font color=\"purple\">answer_RK_0</font> list.\n",
    "\n",
    "You can insert as many code blocks as you need between the <font color=\"green\">Your code starts</font> and <font color=\"green\">Your code ends</font>. You can reuse the implementations we have provided before."
   ]
  },
  {
   "cell_type": "code",
   "execution_count": 12,
   "id": "e71c6c9d-de70-4efd-ba42-1284356b77c3",
   "metadata": {},
   "outputs": [],
   "source": [
    "answer_RK_0 = [0 for i in range(16)]"
   ]
  },
  {
   "cell_type": "code",
   "execution_count": 13,
   "id": "e82f5c07-6367-46a6-8cb0-57559706588f",
   "metadata": {},
   "outputs": [],
   "source": [
    "## Your code starts"
   ]
  },
  {
   "cell_type": "code",
   "execution_count": 14,
   "id": "e74d23c4-30f6-444f-946b-03b2c3349abd",
   "metadata": {},
   "outputs": [],
   "source": [
    "def theoretical_power_consumption_Section_2(plaintexts, byte_index, key_byte):\n",
    "    return [theoretical_power_consumption_for_byte_i_Section_2(plaintext, byte_index, key_byte) for plaintext in plaintexts]"
   ]
  },
  {
   "cell_type": "code",
   "execution_count": 15,
   "id": "937c95c3",
   "metadata": {},
   "outputs": [],
   "source": [
    "def compute_coefs_for_a_guess_Section_2(traces, text_ins, guessed_byte_index, guessed_key_byte, mean_actuals, std_actuals):\n",
    "    power_theoretical = np.array([theoretical_power_consumption_Section_2(text_ins, guessed_byte_index, guessed_key_byte)]).transpose()\n",
    "    mean_theoretical = mean(power_theoretical)\n",
    "    std_hws = std_dev(power_theoretical, mean_theoretical)\n",
    "    coefs = np.abs(cov(traces, mean_actuals, power_theoretical, mean_theoretical)/(std_actuals*std_hws))\n",
    "    return coefs"
   ]
  },
  {
   "cell_type": "code",
   "execution_count": 16,
   "id": "b85a38d6",
   "metadata": {},
   "outputs": [
    {
     "name": "stdout",
     "output_type": "stream",
     "text": [
      "Byte 0: 0x2b\n",
      "Byte 1: 0x7e\n",
      "Byte 2: 0x15\n",
      "Byte 3: 0x16\n",
      "Byte 4: 0x28\n",
      "Byte 5: 0xae\n",
      "Byte 6: 0xd2\n",
      "Byte 7: 0xa6\n",
      "Byte 8: 0xab\n",
      "Byte 9: 0xf7\n",
      "Byte 10: 0x15\n",
      "Byte 11: 0x88\n",
      "Byte 12: 0x09\n",
      "Byte 13: 0xcf\n",
      "Byte 14: 0x4f\n",
      "Byte 15: 0x3c\n"
     ]
    }
   ],
   "source": [
    "for byte_idx in range(16):\n",
    "    max_coef = 0\n",
    "    best_key = 0\n",
    "    \n",
    "    for key_guess in range(256):\n",
    "        coefs = compute_coefs_for_a_guess_Section_2(traces_8_bit.traces, traces_8_bit.text_ins, \n",
    "                                                   byte_idx, key_guess, mean_actuals, std_actuals)\n",
    "        highest_coef = np.max(coefs)\n",
    "        \n",
    "        if highest_coef > max_coef:\n",
    "            max_coef = highest_coef\n",
    "            best_key = key_guess\n",
    "    \n",
    "    answer_RK_0[byte_idx] = best_key\n",
    "    print(f\"Byte {byte_idx}: 0x{best_key:02x}\")"
   ]
  },
  {
   "cell_type": "code",
   "execution_count": 17,
   "id": "5ba92fbf-db4f-4041-aa35-d14c4292b632",
   "metadata": {},
   "outputs": [],
   "source": [
    "## Your code ends "
   ]
  },
  {
   "cell_type": "markdown",
   "id": "9a0b71a1-3107-4e3e-8d84-477b5f2ee279",
   "metadata": {},
   "source": [
    "You should be able to correctly recover the whole $RK_0$ now! Because $SK=RK_0$, we have revealed the AES master secret key!"
   ]
  },
  {
   "cell_type": "markdown",
   "id": "0d07350c-e2e1-415d-a4c7-b24d652c4995",
   "metadata": {},
   "source": [
    ". . . . . . . . . . . . . . . . . . . . . . . . . . . . . . . . . . . . . . . . . . . . . . . . . . . . . . . . . . . . . . . . . . . . . . "
   ]
  },
  {
   "cell_type": "markdown",
   "id": "00b9c26f-25d0-4417-80cc-949ee0eefe6a",
   "metadata": {},
   "source": [
    "<font color=\"red\" size=\"4\">Question 5:</font> [15 mark] \n",
    "Attacking the results of AddRoundKey is not effective, as it sometimes recovers incorrect key values. By contrast, attacking the results of SubByte gives us the correct key. Explain why AddRoundKey is not an effective attacking target, but SubByte is.\n",
    "\n",
    "*(Hint: Think of the figure about the highest_coef_for_each_guess in Question 2.)*"
   ]
  },
  {
   "cell_type": "markdown",
   "id": "77331eb0-f5dc-4c92-87e6-f1fc63ca4267",
   "metadata": {},
   "source": [
    "<span style=\"color:green;\">(Double click this block)</span> Your answer goes there..............................\n",
    "\n",
    "AddRoundKey is not an effective attacking target because the XOR operation is linear and produces relatively uniform power consumption patterns. The correlation between guessed power consumption and actual traces is weak(low value) because:\n",
    "\n",
    "1.)Linear Operation: XOR operation doesn't amplify differences between correct and incorrect key guesses\n",
    "\n",
    "2.)Uniform Distribution: The output of XOR tends to be uniformly distributed, making it harder to distinguish correct from incorrect keys\n",
    "\n",
    "3.)Low Signal-to-Noise Ratio: The power consumption differences are small and easily masked by noise\n",
    "\n",
    "SubByte attack is more effective because:\n",
    "\n",
    "1.)Non-linear Transformation: The S-box introduces non-linearity that amplifies power consumption differences\n",
    "\n",
    "2.)Clear Peak Formation: Correct key guesses produce distinct correlation peaks while incorrect guesses show low, uniform correlations\n",
    "\n",
    "3.)Better Signal-to-Noise Ratio: The S-box output creates more pronounced power consumption patterns that are easier to detect."
   ]
  },
  {
   "cell_type": "markdown",
   "id": "07221e8e-4eae-411b-9a08-517fd261fc59",
   "metadata": {},
   "source": [
    ". . . . . . . . . . . . . . . . . . . . . . . . . . . . . . . . . . . . . . . . . . . . . . . . . . . . . . . . . . . . . . . . . . . . . . "
   ]
  },
  {
   "cell_type": "markdown",
   "id": "cdd2dd8a-a4b2-41c2-90de-6c5ebbbbdc75",
   "metadata": {},
   "source": [
    "<font color=\"red\" size=\"4\">Question 6:</font> [10 mark] \n",
    "Based on this attack, Alice proposes a countermeasure that never reuses $SK$ in any AES round ($RK_i\\neq SK$), so that $SK$ can never be obtained in any single round. Does it prevent the attacker from getting the value of $SK$? Explain why or why not."
   ]
  },
  {
   "cell_type": "markdown",
   "id": "888c0c28-d0f4-4107-a448-b59b5a3ccb23",
   "metadata": {},
   "source": [
    "<span style=\"color:green;\">(Double click this block)</span> Your answer goes there..............................\n",
    "\n",
    "Alice's countermeasure of ensuring RKᵢ is not equal to SK does not prevent the attacker from getting SK. This is because:\n",
    "\n",
    "1.)Key Schedule Invertibility: AES uses an invertible key schedule algorithm. If an attacker recovers any round key RKᵢ, they can reverse the key expansion process to derive the master secret key SK.\n",
    "\n",
    "2.)Mathematical Relationship: The round keys are deterministically derived from SK through well-known transformations involving S-box operations, rotations, and XOR with round constants.\n",
    "\n",
    "3.)Equivalent Security: Since RK₀ = SK in standard AES, recovering RK₀ directly gives SK. Even if this relationship is changed, recovering any round key still allows derivation of SK through the inverse key schedule.\n",
    "\n",
    "The attacker can still perform the same CPA attack on any round key and then use the key schedule algorithm in reverse to obtain SK."
   ]
  },
  {
   "cell_type": "markdown",
   "id": "76885123-52a5-441b-be9b-a7c70327fd98",
   "metadata": {},
   "source": [
    ". . . . . . . . . . . . . . . . . . . . . . . . . . . . . . . . . . . . . . . . . . . . . . . . . . . . . . . . . . . . . . . . . . . . . . "
   ]
  },
  {
   "cell_type": "markdown",
   "id": "63c311ac-fdcf-45c5-819e-0b76dd20ac3e",
   "metadata": {},
   "source": [
    "<font color=\"red\" size=\"4\">Question 7:</font> [10 mark] \n",
    "Based on this attack, Bob proposes a countermeasure that uses a non-invertible key schedule and $RK_i\\neq SK$ in AES, so that $SK$ can never be obtained in any single round. Does it work to guarantee the security of AES? Explain why or why not."
   ]
  },
  {
   "cell_type": "markdown",
   "id": "15aa17ba-8caf-4735-8e3b-1983ac573a4f",
   "metadata": {},
   "source": [
    "<span style=\"color:green;\">(Double click this block)</span> Your answer goes there..............................\n",
    "\n",
    "Bob's countermeasure using a non-invertible key schedule would provide better security but doesn't guarantee complete protection:\n",
    "\n",
    "Advantages:\n",
    "\n",
    "1.)Prevents Key Recovery: If the key schedule is truly non-invertible, recovering individual round keys won't directly reveal SK\n",
    "\n",
    "2.)Breaks Attack Chain: The standard approach of \"recover round key -> derive master key\" is broken\n",
    "\n",
    "Limitations:\n",
    "\n",
    "1.)Implementation Challenges: Creating a secure non-invertible key schedule while maintaining AES security properties is complex\n",
    "\n",
    "2.)Compatibility Issues: This breaks standard AES compatibility\n",
    "\n",
    "3.)Other Attack Vectors: Attackers might target SK directly or exploit other vulnerabilities\n",
    "\n",
    "4.)Performance Impact: Non-invertible key schedules typically require storing all round keys, increasing memory requirements\n",
    "\n",
    "Conclusion: While this approach significantly improves resistance against key recovery attacks, it doesn't guarantee absolute security and introduces practical implementation challenges"
   ]
  },
  {
   "cell_type": "markdown",
   "id": "82d8297b",
   "metadata": {},
   "source": [
    "-----------------"
   ]
  },
  {
   "cell_type": "markdown",
   "id": "caebcc51-df19-4c4d-bd8e-f5cf6711984e",
   "metadata": {},
   "source": [
    "## Section 3: Attack 32-bit AES-256 Decryption.\n",
    "#### [50 marks]\n",
    "\n",
    "Now, let's turn our focus to extracting the secret keys for a 32-bit AES-256 if we can get access to its decryption machine.\n",
    "\n",
    "In fact, modern processor architectures can operate a 32/64/128-bit value inside one instruction. To speed up the running time, the 32-bit version AES splits the 128-bit state block into four 32-bit words, instead of 16 8-bit words. Then, different from our 8-bit implementations in assignment 1, it performs AddRoundKey, SubByte, ShiftRow, and MixColumn on every 32-bit word.\n",
    "\n",
    "Different from AES-256 encryption, AES-256 decryption operates on keys starting from $RK_{14}$. Recall that $SK=[RK_0, RK_1]$ in AES-256, one way is to keep recovering until $RK_1$ and $RK_0$. However, getting $RK_{14}$ and $RK_{13}$ is equivalent to getting $SK$.\n",
    "\n",
    "We selected 500 ciphertexts and collected their power traces from an AES-256 decryption machine with a fixed unknown $SK$. <font color=\"green\">The AES-256 decryption is implemented from *'AES-32bit.c'* between line 966 and line 1021 (int mbedtls_internal_aes_decrypt(arguments))</font>. You need to read this decryption implementation carefully and design the CPA to recover $RK_{14}$ and $RK_{13}$.\n",
    "\n",
    "*(Hint1: Do not try to enumerate $2^{32}$ keys! You can still recover $RK$ byte by byte. However, you need to carefully think about what the output is and then compute the correct theoretical power consumption.)*\n",
    "\n",
    "*(Hint2: One way to check your correctness is to utilize your CPA to recover $RK_{12}$, and compare it with the $RK'_{12}$ computed from your recovered $RK_{14}$ and $RK_{13}$ to see whether they match)*\n",
    "\n",
    "*(Hint3: it takes longer time to recover one $RK$ there. Depending on your CPA implementation, it can take a few minutes.)*"
   ]
  },
  {
   "cell_type": "markdown",
   "id": "2963e46c-b35b-4254-be5c-f836f939d452",
   "metadata": {},
   "source": [
    ". . . . . . . . . . . . . . . . . . . . . . . . . . . . . . . . . . . . . . . . . . . . . . . . . . . . . . . . . . . . . . . . . . . . . . ."
   ]
  },
  {
   "cell_type": "markdown",
   "id": "63bb7992-5d7a-41a9-a9e8-9c02f8fc4064",
   "metadata": {},
   "source": [
    "The traces are loaded for you:"
   ]
  },
  {
   "cell_type": "code",
   "execution_count": 18,
   "id": "21af0375-b2b6-431c-9aca-a24e978ed0a3",
   "metadata": {},
   "outputs": [],
   "source": [
    "traces_32_bit = load_traces(\"AES-32-attack.npz\")"
   ]
  },
  {
   "cell_type": "markdown",
   "id": "0b477617-e185-47ed-b4d2-3ae0eeefdb48",
   "metadata": {},
   "source": [
    "<font color=\"red\" size=\"4\">Question 8:</font> [25 mark] Recovering the $RK_{14}$, and store each byte's value back to the <font color=\"purple\">answer_32bit_RK_14</font> list.\n",
    "\n",
    "You can insert as many code blocks as you need between the <font color=\"green\">Your code starts</font> and <font color=\"green\">Your code ends</font>. You can reuse the implementations we have provided before."
   ]
  },
  {
   "cell_type": "code",
   "execution_count": 19,
   "id": "0633ed8f-5aae-47c9-bea4-823e0ff70a2b",
   "metadata": {},
   "outputs": [],
   "source": [
    "answer_32bit_RK_14 = [0 for i in range(16)]"
   ]
  },
  {
   "cell_type": "code",
   "execution_count": 20,
   "id": "ea551599-727b-4eed-9c41-54230d761273",
   "metadata": {},
   "outputs": [],
   "source": [
    "## Your code starts"
   ]
  },
  {
   "cell_type": "code",
   "execution_count": 21,
   "id": "f1852c0f",
   "metadata": {},
   "outputs": [],
   "source": [
    "mean_actuals_32 = mean(traces_32_bit.traces)\n",
    "std_actuals_32 = std_dev(traces_32_bit.traces, mean_actuals_32)"
   ]
  },
  {
   "cell_type": "code",
   "execution_count": 22,
   "id": "4d347f63",
   "metadata": {},
   "outputs": [],
   "source": [
    "def theoretical_power_consumption_for_byte_i_Section_3_RK14(ciphertext, byte_index, hypothesized_key_byte):\n",
    "    output = ciphertext[byte_index] ^ hypothesized_key_byte\n",
    "    return HW(output)"
   ]
  },
  {
   "cell_type": "code",
   "execution_count": 23,
   "id": "b4946788",
   "metadata": {},
   "outputs": [],
   "source": [
    "def theoretical_power_consumption_Section_3_RK14(ciphertexts, byte_index, key_byte):\n",
    "    return [theoretical_power_consumption_for_byte_i_Section_3_RK14(ciphertext, byte_index, key_byte) for ciphertext in ciphertexts]"
   ]
  },
  {
   "cell_type": "code",
   "execution_count": 24,
   "id": "6885a1d1",
   "metadata": {},
   "outputs": [],
   "source": [
    "def compute_coefs_for_a_guess_Section_3(traces, text_ins, guessed_byte_index, guessed_key_byte, mean_actuals, std_actuals, power_func):\n",
    "    power_theoretical = np.array([power_func(text_ins, guessed_byte_index, guessed_key_byte)]).transpose()\n",
    "    mean_theoretical = mean(power_theoretical)\n",
    "    std_hws = std_dev(power_theoretical, mean_theoretical)\n",
    "    coefs = np.abs(cov(traces, mean_actuals, power_theoretical, mean_theoretical)/(std_actuals*std_hws))\n",
    "    return coefs"
   ]
  },
  {
   "cell_type": "code",
   "execution_count": 25,
   "id": "dbb05a04-aa8f-4758-8e11-b9528d53ed29",
   "metadata": {},
   "outputs": [
    {
     "name": "stdout",
     "output_type": "stream",
     "text": [
      "Attacking byte 0 of RK_14...\n",
      "Byte 0: 0xa5, max correlation: 0.4573\n",
      "Attacking byte 1 of RK_14...\n",
      "Byte 1: 0x3c, max correlation: 0.6368\n",
      "Attacking byte 2 of RK_14...\n",
      "Byte 2: 0x00, max correlation: 0.6357\n",
      "Attacking byte 3 of RK_14...\n",
      "Byte 3: 0x7d, max correlation: 0.8249\n",
      "Attacking byte 4 of RK_14...\n",
      "Byte 4: 0x3e, max correlation: 0.4325\n",
      "Attacking byte 5 of RK_14...\n",
      "Byte 5: 0x79, max correlation: 0.6791\n",
      "Attacking byte 6 of RK_14...\n",
      "Byte 6: 0x6e, max correlation: 0.6523\n",
      "Attacking byte 7 of RK_14...\n",
      "Byte 7: 0x4e, max correlation: 0.6097\n",
      "Attacking byte 8 of RK_14...\n",
      "Byte 8: 0x00, max correlation: 0.4327\n",
      "Attacking byte 9 of RK_14...\n",
      "Byte 9: 0x56, max correlation: 0.6274\n",
      "Attacking byte 10 of RK_14...\n",
      "Byte 10: 0x4e, max correlation: 0.6729\n",
      "Attacking byte 11 of RK_14...\n",
      "Byte 11: 0x57, max correlation: 0.5258\n",
      "Attacking byte 12 of RK_14...\n",
      "Byte 12: 0x6b, max correlation: 0.4324\n",
      "Attacking byte 13 of RK_14...\n",
      "Byte 13: 0x5f, max correlation: 0.6990\n",
      "Attacking byte 14 of RK_14...\n",
      "Byte 14: 0xff, max correlation: 0.6760\n",
      "Attacking byte 15 of RK_14...\n",
      "Byte 15: 0x0e, max correlation: 0.6001\n",
      "RK_14 recovered: ['0xa5', '0x3c', '0x0', '0x7d', '0x3e', '0x79', '0x6e', '0x4e', '0x0', '0x56', '0x4e', '0x57', '0x6b', '0x5f', '0xff', '0xe']\n"
     ]
    }
   ],
   "source": [
    "for byte_idx in range(16):\n",
    "    max_coef = 0\n",
    "    best_key = 0\n",
    "    \n",
    "    print(f\"Attacking byte {byte_idx} of RK_14...\")\n",
    "    \n",
    "    for key_guess in range(256):\n",
    "        coefs = compute_coefs_for_a_guess_Section_3(traces_32_bit.traces, traces_32_bit.text_ins, \n",
    "                                                   byte_idx, key_guess, mean_actuals_32, std_actuals_32,\n",
    "                                                   theoretical_power_consumption_Section_3_RK14)\n",
    "        highest_coef = np.max(coefs)\n",
    "        \n",
    "        if highest_coef > max_coef:\n",
    "            max_coef = highest_coef\n",
    "            best_key = key_guess\n",
    "    \n",
    "    answer_32bit_RK_14[byte_idx] = best_key\n",
    "    print(f\"Byte {byte_idx}: 0x{best_key:02x}, max correlation: {max_coef:.4f}\")\n",
    "\n",
    "print(\"RK_14 recovered:\", [hex(b) for b in answer_32bit_RK_14])"
   ]
  },
  {
   "cell_type": "code",
   "execution_count": 26,
   "id": "d54eb1f5-f58d-4099-a915-5e0717e4ab60",
   "metadata": {},
   "outputs": [],
   "source": [
    "## Your code ends"
   ]
  },
  {
   "cell_type": "markdown",
   "id": "0980420e-c203-4f0a-9a30-a397299e2cf0",
   "metadata": {},
   "source": [
    ". . . . . . . . . . . . . . . . . . . . . . . . . . . . . . . . . . . . . . . . . . . . . . . . . . . . . . . . . . . . . . . . . . . . . . ."
   ]
  },
  {
   "cell_type": "markdown",
   "id": "3f546c8a-0e84-460d-9ce0-339b372741a9",
   "metadata": {},
   "source": [
    "<font color=\"red\" size=\"4\">Question 9:</font> [25 mark] Recovering the $RK_{13}$, and store each byte's value back to the <font color=\"purple\">answer_32bit_RK_13</font> list.\n",
    "\n",
    "You can insert as many code blocks as you need between the <font color=\"green\">Your code starts</font> and <font color=\"green\">Your code ends</font>. You can reuse the implementations we have provided before."
   ]
  },
  {
   "cell_type": "code",
   "execution_count": 27,
   "id": "8ac2b64f-e2f4-489f-8087-c0eedb166026",
   "metadata": {},
   "outputs": [],
   "source": [
    "answer_32bit_RK_13 = [0 for i in range(16)]"
   ]
  },
  {
   "cell_type": "code",
   "execution_count": 28,
   "id": "074bf8b6-9657-4f66-be8a-5c851ef0994d",
   "metadata": {},
   "outputs": [],
   "source": [
    "## Your code starts"
   ]
  },
  {
   "cell_type": "code",
   "execution_count": 29,
   "id": "84120caa",
   "metadata": {},
   "outputs": [],
   "source": [
    "RSBOX = [\n",
    "    [0x52, 0x09, 0x6A, 0xD5, 0x30, 0x36, 0xA5, 0x38, 0xBF, 0x40, 0xA3, 0x9E, 0x81, 0xF3, 0xD7, 0xFB],\n",
    "    [0x7C, 0xE3, 0x39, 0x82, 0x9B, 0x2F, 0xFF, 0x87, 0x34, 0x8E, 0x43, 0x44, 0xC4, 0xDE, 0xE9, 0xCB],\n",
    "    [0x54, 0x7B, 0x94, 0x32, 0xA6, 0xC2, 0x23, 0x3D, 0xEE, 0x4C, 0x95, 0x0B, 0x42, 0xFA, 0xC3, 0x4E],\n",
    "    [0x08, 0x2E, 0xA1, 0x66, 0x28, 0xD9, 0x24, 0xB2, 0x76, 0x5B, 0xA2, 0x49, 0x6D, 0x8B, 0xD1, 0x25],\n",
    "    [0x72, 0xF8, 0xF6, 0x64, 0x86, 0x68, 0x98, 0x16, 0xD4, 0xA4, 0x5C, 0xCC, 0x5D, 0x65, 0xB6, 0x92],\n",
    "    [0x6C, 0x70, 0x48, 0x50, 0xFD, 0xED, 0xB9, 0xDA, 0x5E, 0x15, 0x46, 0x57, 0xA7, 0x8D, 0x9D, 0x84],\n",
    "    [0x90, 0xD8, 0xAB, 0x00, 0x8C, 0xBC, 0xD3, 0x0A, 0xF7, 0xE4, 0x58, 0x05, 0xB8, 0xB3, 0x45, 0x06],\n",
    "    [0xD0, 0x2C, 0x1E, 0x8F, 0xCA, 0x3F, 0x0F, 0x02, 0xC1, 0xAF, 0xBD, 0x03, 0x01, 0x13, 0x8A, 0x6B],\n",
    "    [0x3A, 0x91, 0x11, 0x41, 0x4F, 0x67, 0xDC, 0xEA, 0x97, 0xF2, 0xCF, 0xCE, 0xF0, 0xB4, 0xE6, 0x73],\n",
    "    [0x96, 0xAC, 0x74, 0x22, 0xE7, 0xAD, 0x35, 0x85, 0xE2, 0xF9, 0x37, 0xE8, 0x1C, 0x75, 0xDF, 0x6E],\n",
    "    [0x47, 0xF1, 0x1A, 0x71, 0x1D, 0x29, 0xC5, 0x89, 0x6F, 0xB7, 0x62, 0x0E, 0xAA, 0x18, 0xBE, 0x1B],\n",
    "    [0xFC, 0x56, 0x3E, 0x4B, 0xC6, 0xD2, 0x79, 0x20, 0x9A, 0xDB, 0xC0, 0xFE, 0x78, 0xCD, 0x5A, 0xF4],\n",
    "    [0x1F, 0xDD, 0xA8, 0x33, 0x88, 0x07, 0xC7, 0x31, 0xB1, 0x12, 0x10, 0x59, 0x27, 0x80, 0xEC, 0x5F],\n",
    "    [0x60, 0x51, 0x7F, 0xA9, 0x19, 0xB5, 0x4A, 0x0D, 0x2D, 0xE5, 0x7A, 0x9F, 0x93, 0xC9, 0x9C, 0xEF],\n",
    "    [0xA0, 0xE0, 0x3B, 0x4D, 0xAE, 0x2A, 0xF5, 0xB0, 0xC8, 0xEB, 0xBB, 0x3C, 0x83, 0x53, 0x99, 0x61],\n",
    "    [0x17, 0x2B, 0x04, 0x7E, 0xBA, 0x77, 0xD6, 0x26, 0xE1, 0x69, 0x14, 0x63, 0x55, 0x21, 0x0C, 0x7D]\n",
    "]"
   ]
  },
  {
   "cell_type": "code",
   "execution_count": 30,
   "id": "a368e83d",
   "metadata": {},
   "outputs": [],
   "source": [
    "def inv_shift_rows_byte_position(byte_idx):\n",
    "    \"\"\"Map byte position after inverse shift rows operation\"\"\"\n",
    "    row = byte_idx // 4\n",
    "    col = byte_idx % 4\n",
    "    \n",
    "    if row == 0:\n",
    "        new_col = col\n",
    "    elif row == 1:\n",
    "        new_col = (col + 1) % 4\n",
    "    elif row == 2:\n",
    "        new_col = (col + 2) % 4\n",
    "    elif row == 3:\n",
    "        new_col = (col + 3) % 4\n",
    "        \n",
    "    return row * 4 + new_col"
   ]
  },
  {
   "cell_type": "code",
   "execution_count": 31,
   "id": "04e2584d",
   "metadata": {},
   "outputs": [],
   "source": [
    "def theoretical_power_consumption_for_byte_i_Section_3_RK13(ciphertext, byte_index, hypothesized_key_byte):\n",
    "    # Step 1: AddRoundKey with RK_14 (we know this from previous attack)\n",
    "    after_add_rk14 = ciphertext[byte_index] ^ answer_32bit_RK_14[byte_index]\n",
    "    \n",
    "    # Step 2: InvShiftRows - need to map the byte position\n",
    "    shifted_idx = inv_shift_rows_byte_position(byte_index)\n",
    "    # For simplicity, we do shifting later.\n",
    "    \n",
    "    # Step 3: InvSubBytes operation\n",
    "    inv_sbox_output = RSBOX[after_add_rk14 >> 4][after_add_rk14 & 0x0F]\n",
    "    \n",
    "    # Step 4: AddRoundKey with RK_13 (hypothesized)\n",
    "    final_output = inv_sbox_output ^ hypothesized_key_byte\n",
    "    \n",
    "    \n",
    "    return HW(final_output)"
   ]
  },
  {
   "cell_type": "code",
   "execution_count": 32,
   "id": "960925c5",
   "metadata": {},
   "outputs": [],
   "source": [
    "def theoretical_power_consumption_Section_3_RK13(ciphertexts, byte_index, key_byte):\n",
    "    return [theoretical_power_consumption_for_byte_i_Section_3_RK13(ciphertext, byte_index, key_byte) for ciphertext in ciphertexts]"
   ]
  },
  {
   "cell_type": "code",
   "execution_count": 33,
   "id": "9bf19344-1226-4665-a6e7-15c6684d7e52",
   "metadata": {},
   "outputs": [
    {
     "name": "stdout",
     "output_type": "stream",
     "text": [
      "Attacking byte 0 of RK_13...\n",
      "Byte 0: 0x49, max correlation: 0.2040\n",
      "Attacking byte 1 of RK_13...\n",
      "Byte 1: 0x02, max correlation: 0.2223\n",
      "Attacking byte 2 of RK_13...\n",
      "Byte 2: 0x48, max correlation: 0.2163\n",
      "Attacking byte 3 of RK_13...\n",
      "Byte 3: 0x9b, max correlation: 0.2376\n",
      "Attacking byte 4 of RK_13...\n",
      "Byte 4: 0x20, max correlation: 0.2164\n",
      "Attacking byte 5 of RK_13...\n",
      "Byte 5: 0x3d, max correlation: 0.2212\n",
      "Attacking byte 6 of RK_13...\n",
      "Byte 6: 0xf0, max correlation: 0.2058\n",
      "Attacking byte 7 of RK_13...\n",
      "Byte 7: 0x0f, max correlation: 0.2170\n",
      "Attacking byte 8 of RK_13...\n",
      "Byte 8: 0x52, max correlation: 0.2218\n",
      "Attacking byte 9 of RK_13...\n",
      "Byte 9: 0xff, max correlation: 0.2161\n",
      "Attacking byte 10 of RK_13...\n",
      "Byte 10: 0xce, max correlation: 0.2262\n",
      "Attacking byte 11 of RK_13...\n",
      "Byte 11: 0x7f, max correlation: 0.2273\n",
      "Attacking byte 12 of RK_13...\n",
      "Byte 12: 0x41, max correlation: 0.2314\n",
      "Attacking byte 13 of RK_13...\n",
      "Byte 13: 0x69, max correlation: 0.2240\n",
      "Attacking byte 14 of RK_13...\n",
      "Byte 14: 0xad, max correlation: 0.1916\n",
      "Attacking byte 15 of RK_13...\n",
      "Byte 15: 0xb1, max correlation: 0.2005\n",
      "RK_13 recovered: ['0x49', '0x2', '0x48', '0x9b', '0x20', '0x3d', '0xf0', '0xf', '0x52', '0xff', '0xce', '0x7f', '0x41', '0x69', '0xad', '0xb1']\n"
     ]
    }
   ],
   "source": [
    "for byte_idx in range(16):\n",
    "    max_coef = 0\n",
    "    best_key = 0\n",
    "    \n",
    "    print(f\"Attacking byte {byte_idx} of RK_13...\")\n",
    "    \n",
    "    for key_guess in range(256):\n",
    "        coefs = compute_coefs_for_a_guess_Section_3(traces_32_bit.traces, traces_32_bit.text_ins, \n",
    "                                                   byte_idx, key_guess, mean_actuals_32, std_actuals_32,\n",
    "                                                   theoretical_power_consumption_Section_3_RK13)\n",
    "        highest_coef = np.max(coefs)\n",
    "        \n",
    "        if highest_coef > max_coef:\n",
    "            max_coef = highest_coef\n",
    "            best_key = key_guess\n",
    "    \n",
    "    answer_32bit_RK_13[byte_idx] = best_key\n",
    "    print(f\"Byte {byte_idx}: 0x{best_key:02x}, max correlation: {max_coef:.4f}\")\n",
    "\n",
    "print(\"RK_13 recovered:\", [hex(b) for b in answer_32bit_RK_13])"
   ]
  },
  {
   "cell_type": "code",
   "execution_count": 34,
   "id": "c1ae7616",
   "metadata": {},
   "outputs": [
    {
     "name": "stdout",
     "output_type": "stream",
     "text": [
      "RK_13 after inverse shift rows: ['0x49', '0x2', '0x48', '0x9b', '0xf', '0x20', '0x3d', '0xf0', '0xce', '0x7f', '0x52', '0xff', '0x69', '0xad', '0xb1', '0x41']\n"
     ]
    }
   ],
   "source": [
    "# As we couldn't perform inverse shift rows earlier,\n",
    "#we do it noww\n",
    "\n",
    "answer_32bit_RK_13_cpy=[0 for i in range(16)]\n",
    "for i in range(16):\n",
    "    new_pos=inv_shift_rows_byte_position(i)\n",
    "    answer_32bit_RK_13_cpy[new_pos]=answer_32bit_RK_13[i]\n",
    "answer_32bit_RK_13=answer_32bit_RK_13_cpy\n",
    "print(\"RK_13 after inverse shift rows:\", [hex(b) for b in answer_32bit_RK_13])"
   ]
  },
  {
   "cell_type": "code",
   "execution_count": 36,
   "id": "efe9efa0",
   "metadata": {},
   "outputs": [
    {
     "name": "stdout",
     "output_type": "stream",
     "text": [
      "RK_13 after inverse shift rows: ['0x49', '0x2', '0x48', '0x9b', '0xf', '0x20', '0x3d', '0xf0', '0xce', '0x7f', '0x52', '0xff', '0x69', '0xad', '0xb1', '0x41']\n"
     ]
    }
   ],
   "source": [
    "print(\"RK_13 after inverse shift rows:\", [hex(b) for b in answer_32bit_RK_13])"
   ]
  },
  {
   "cell_type": "code",
   "execution_count": 35,
   "id": "3ed921c4-d7c4-4751-ac35-cb883ac563cc",
   "metadata": {},
   "outputs": [],
   "source": [
    "## Your code ends"
   ]
  },
  {
   "cell_type": "markdown",
   "id": "ed48058a-42ab-40af-985d-ade9d06a8ab9",
   "metadata": {},
   "source": [
    "--------------------------------------------\n",
    "\n",
    "End of this Assignemnt"
   ]
  }
 ],
 "metadata": {
  "kernelspec": {
   "display_name": "paradise",
   "language": "python",
   "name": "python3"
  },
  "language_info": {
   "codemirror_mode": {
    "name": "ipython",
    "version": 3
   },
   "file_extension": ".py",
   "mimetype": "text/x-python",
   "name": "python",
   "nbconvert_exporter": "python",
   "pygments_lexer": "ipython3",
   "version": "3.10.18"
  }
 },
 "nbformat": 4,
 "nbformat_minor": 5
}
